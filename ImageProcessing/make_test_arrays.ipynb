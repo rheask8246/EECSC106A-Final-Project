{
 "cells": [
  {
   "cell_type": "code",
   "execution_count": 1,
   "metadata": {},
   "outputs": [],
   "source": [
    "import matplotlib.pyplot as plt\n",
    "import numpy as np"
   ]
  },
  {
   "cell_type": "code",
   "execution_count": 12,
   "metadata": {},
   "outputs": [
    {
     "data": {
      "image/png": "[encoded data removed]",
      "text/plain": [
       "<Figure size 432x288 with 1 Axes>"
      ]
     },
     "metadata": {
      "needs_background": "light"
     },
     "output_type": "display_data"
    }
   ],
   "source": [
    "#test 1: straight horizontal line\n",
    "n = 20\n",
    "data = np.ones((n,n))\n",
    "data[n//2,:] = 0\n",
    "plt.imshow(data, cmap='gray', interpolation='nearest')\n",
    "plt.show()\n",
    "np.save(\"test1\", data)"
   ]
  },
  {
   "cell_type": "code",
   "execution_count": 14,
   "metadata": {},
   "outputs": [
    {
     "data": {
      "image/png": "[encoded data removed]",
      "text/plain": [
       "<Figure size 432x288 with 1 Axes>"
      ]
     },
     "metadata": {
      "needs_background": "light"
     },
     "output_type": "display_data"
    }
   ],
   "source": [
    "#test 2: straight vertical line\n",
    "n = 20\n",
    "data = np.ones((n,n))\n",
    "data[:,n//2] = 0\n",
    "plt.imshow(data, cmap='gray', interpolation='nearest')\n",
    "plt.show()\n",
    "np.save(\"test2\", data)"
   ]
  },
  {
   "cell_type": "code",
   "execution_count": 22,
   "metadata": {},
   "outputs": [
    {
     "data": {
      "image/png": "[encoded data removed]",
      "text/plain": [
       "<Figure size 432x288 with 1 Axes>"
      ]
     },
     "metadata": {
      "needs_background": "light"
     },
     "output_type": "display_data"
    }
   ],
   "source": [
    "#test 3: square outline\n",
    "n = 20\n",
    "data = np.ones((n,n))\n",
    "data[2,2:n-2] = 0\n",
    "data[n-3,2:n-2] = 0\n",
    "data[2:n-2,2] = 0\n",
    "data[2:n-2,n-3] = 0\n",
    "plt.imshow(data, cmap='gray', interpolation='nearest')\n",
    "plt.show()\n",
    "np.save(\"test3\", data)"
   ]
  },
  {
   "cell_type": "code",
   "execution_count": 34,
   "metadata": {},
   "outputs": [
    {
     "data": {
      "image/png": "[encoded data removed]",
      "text/plain": [
       "<Figure size 432x288 with 1 Axes>"
      ]
     },
     "metadata": {
      "needs_background": "light"
     },
     "output_type": "display_data"
    }
   ],
   "source": [
    "#test 4: diagonals\n",
    "n = 21\n",
    "data = np.ones((n,n))\n",
    "for i in range(n):\n",
    "    for j in range(n):\n",
    "        if (i == j) or (n-i-1 == j):\n",
    "            data[i,j] = 0\n",
    "plt.imshow(data, cmap=\"gray\", interpolation='nearest')\n",
    "plt.show()\n",
    "np.save(\"test4\", data)"
   ]
  },
  {
   "cell_type": "code",
   "execution_count": 40,
   "metadata": {},
   "outputs": [
    {
     "data": {
      "image/png": "[encoded data removed]",
      "text/plain": [
       "<Figure size 432x288 with 1 Axes>"
      ]
     },
     "metadata": {
      "needs_background": "light"
     },
     "output_type": "display_data"
    }
   ],
   "source": [
    "#test 5: test lengths of lines\n",
    "n = 13\n",
    "data = np.ones((n,n))\n",
    "change = 0\n",
    "for j in range(n):\n",
    "    if (j%2 != 0):\n",
    "        data[(n//2)-change:(n//2)+change+1, j] = 0\n",
    "        change += 1\n",
    "plt.imshow(data, cmap=\"gray\", interpolation='nearest')\n",
    "plt.show()\n",
    "np.save(\"test5\", data)"
   ]
  },
  {
   "cell_type": "code",
   "execution_count": 47,
   "metadata": {},
   "outputs": [
    {
     "data": {
      "image/png": "[encoded data removed]",
      "text/plain": [
       "<Figure size 432x288 with 1 Axes>"
      ]
     },
     "metadata": {
      "needs_background": "light"
     },
     "output_type": "display_data"
    }
   ],
   "source": [
    "#test 6: circle\n",
    "n = 101\n",
    "data = np.ones((n,n))\n",
    "for i in range(n):\n",
    "    for j in range(n):\n",
    "        if (((i-(n//2))**2 + (j-(n//2))**2) <= (n//3)**2):\n",
    "            data[i,j] = 0\n",
    "plt.imshow(data, cmap=\"gray\", interpolation='nearest')\n",
    "plt.show()\n",
    "np.save(\"test6\", data)"
   ]
  },
  {
   "cell_type": "code",
   "execution_count": 48,
   "metadata": {},
   "outputs": [
    {
     "name": "stdout",
     "output_type": "stream",
     "text": [
      "[[0. 0. 0. 1. 0. 1. 0. 0. 0. 0. 0.]\n",
      " [0. 0. 0. 1. 0. 0. 0. 0. 0. 0. 0.]\n",
      " [0. 0. 0. 1. 0. 1. 0. 0. 0. 0. 0.]\n",
      " [0. 0. 0. 1. 0. 0. 0. 0. 0. 0. 0.]\n",
      " [0. 0. 0. 1. 0. 1. 0. 0. 0. 0. 0.]\n",
      " [0. 0. 0. 1. 0. 0. 0. 0. 0. 0. 0.]\n",
      " [0. 0. 0. 1. 0. 1. 0. 0. 0. 0. 0.]\n",
      " [0. 0. 0. 1. 0. 0. 0. 0. 0. 0. 0.]\n",
      " [0. 0. 0. 1. 0. 1. 0. 0. 0. 0. 0.]\n",
      " [0. 0. 0. 1. 0. 0. 0. 0. 0. 0. 0.]\n",
      " [0. 0. 0. 1. 0. 1. 0. 0. 0. 0. 0.]]\n"
     ]
    },
    {
     "data": {
      "image/png": "[encoded data removed]",
      "text/plain": [
       "<Figure size 432x288 with 1 Axes>"
      ]
     },
     "metadata": {
      "needs_background": "light"
     },
     "output_type": "display_data"
    }
   ],
   "source": [
    "#test 7: dots and lines\n",
    "n = 11\n",
    "data = np.zeros((n,n))\n",
    "# (a) What is the effect of this 'for' loop?\n",
    "for i in range(0,n):\n",
    "    data[i,(n//3)] = 1\n",
    "# (b) And this 'for' loop?\n",
    "col = (n-1) // 2\n",
    "for i in range(0,n,2):\n",
    "    data[i,col] = 1\n",
    "print(data)\n",
    "plt.imshow(data, cmap=\"gray\", interpolation='nearest')\n",
    "plt.show()"
   ]
  },
  {
   "cell_type": "code",
   "execution_count": null,
   "metadata": {},
   "outputs": [],
   "source": []
  }
 ],
 "metadata": {
  "kernelspec": {
   "display_name": "Python 3",
   "language": "python",
   "name": "python3"
  },
  "language_info": {
   "codemirror_mode": {
    "name": "ipython",
    "version": 3
   },
   "file_extension": ".py",
   "mimetype": "text/x-python",
   "name": "python",
   "nbconvert_exporter": "python",
   "pygments_lexer": "ipython3",
   "version": "3.8.5"
  }
 },
 "nbformat": 4,
 "nbformat_minor": 4
}
